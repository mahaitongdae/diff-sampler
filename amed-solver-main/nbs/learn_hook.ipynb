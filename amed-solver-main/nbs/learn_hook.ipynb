{
 "cells": [
  {
   "cell_type": "code",
   "id": "initial_id",
   "metadata": {
    "collapsed": true,
    "ExecuteTime": {
     "end_time": "2024-12-10T15:24:57.913296Z",
     "start_time": "2024-12-10T15:24:57.908307Z"
    }
   },
   "source": [
    "import torch\n",
    "import torch.nn as nn\n",
    "\n",
    "# Define a simple model\n",
    "class SimpleModel(nn.Module):\n",
    "    def __init__(self):\n",
    "        super(SimpleModel, self).__init__()\n",
    "        self.fc = nn.Linear(10, 1)\n",
    "\n",
    "    def forward(self, x):\n",
    "        return self.fc(x)\n",
    "\n",
    "# Initialize the model\n",
    "model = SimpleModel()\n",
    "\n",
    "# Define a hook function\n",
    "def forward_hook(module, input, output):\n",
    "    print(f\"Inside {module.__class__.__name__}\")\n",
    "    print(f\"Input: {input}\")\n",
    "    print(f\"Output: {output}\")\n",
    "\n",
    "# Register the forward hook\n",
    "hook_handle = model.fc.register_forward_hook(forward_hook)\n",
    "\n",
    "# Perform a forward pass\n",
    "x = torch.randn(1, 10)\n",
    "output = model(x)\n",
    "\n",
    "# Remove the hook\n",
    "hook_handle.remove()\n"
   ],
   "execution_count": 5,
   "outputs": []
  },
  {
   "metadata": {
    "ExecuteTime": {
     "end_time": "2024-12-10T15:25:09.859332Z",
     "start_time": "2024-12-10T15:25:09.857357Z"
    }
   },
   "cell_type": "code",
   "source": [
    "import dnnlib\n",
    "from torch_utils.download_util import check_file_by_key\n",
    "import pickle\n",
    "import torch\n",
    "import os"
   ],
   "id": "a0c6d3a0e9a5b8de",
   "execution_count": 7,
   "outputs": []
  },
  {
   "metadata": {
    "ExecuteTime": {
     "end_time": "2024-12-10T14:09:55.252715Z",
     "start_time": "2024-12-10T14:09:54.829406Z"
    }
   },
   "cell_type": "code",
   "source": [
    "model_path, classifier_path = check_file_by_key('cifar10')\n",
    "with dnnlib.util.open_url(model_path) as f:\n",
    "    net = pickle.load(f)['ema'].to(torch.device('cuda'))\n",
    "net.sigma_min = 0.002\n",
    "net.sigma_max = 80.0"
   ],
   "id": "1d277526a2844aa6",
   "execution_count": 3,
   "outputs": []
  },
  {
   "metadata": {
    "ExecuteTime": {
     "end_time": "2024-12-10T14:09:58.378759Z",
     "start_time": "2024-12-10T14:09:58.374565Z"
    }
   },
   "cell_type": "code",
   "source": "net",
   "id": "c2e5159575f0968d",
   "execution_count": 4,
   "outputs": []
  },
  {
   "metadata": {
    "ExecuteTime": {
     "end_time": "2024-12-10T15:25:56.521496Z",
     "start_time": "2024-12-10T15:25:56.506560Z"
    }
   },
   "cell_type": "code",
   "source": [
    "predictor_path = '00001'\n",
    "if not predictor_path.endswith('pkl'):      # load by experiment number\n",
    "    # find the directory with trained AMED predictor\n",
    "    predictor_path_str = '0' * (5 - len(predictor_path)) + predictor_path\n",
    "    for file_name in os.listdir(\"exps\"):\n",
    "        if file_name.split('-')[0] == predictor_path_str:\n",
    "            file_list = [f for f in os.listdir(os.path.join('exps', file_name)) if f.endswith(\"pkl\")]\n",
    "            max_index = -1\n",
    "            max_file = None\n",
    "            for ckpt_name in file_list:\n",
    "                file_index = int(ckpt_name.split(\"-\")[-1].split(\".\")[0])\n",
    "                if file_index > max_index:\n",
    "                    max_index = file_index\n",
    "                    max_file = ckpt_name\n",
    "            predictor_path = os.path.join('exps', file_name, max_file)\n",
    "            break\n",
    "print(f'Loading AMED predictor from \"{predictor_path}\"...')\n",
    "with dnnlib.util.open_url(predictor_path, verbose=True) as f:\n",
    "    AMED_predictor = pickle.load(f)['model']"
   ],
   "id": "3e256c621238c3fc",
   "execution_count": 11,
   "outputs": []
  },
  {
   "metadata": {
    "ExecuteTime": {
     "end_time": "2024-12-10T19:23:24.712310Z",
     "start_time": "2024-12-10T19:23:24.710141Z"
    }
   },
   "cell_type": "code",
   "source": "AMED_predictor.scale_dir\n",
   "id": "2a07b257c8ccba03",
   "execution_count": 27,
   "outputs": []
  },
  {
   "metadata": {
    "ExecuteTime": {
     "end_time": "2024-12-10T15:34:02.524273Z",
     "start_time": "2024-12-10T15:34:02.458146Z"
    }
   },
   "cell_type": "code",
   "source": [
    "from torchinfo import summary\n",
    "# print(AMED_predictor)\n",
    "summary(AMED_predictor, input_size=[(8, 8, 8), (1,1,1,1), (1,1,1,1)])"
   ],
   "id": "db4f54827ecd05ff",
   "execution_count": 21,
   "outputs": []
  }
 ],
 "metadata": {
  "kernelspec": {
   "display_name": "Python 3",
   "language": "python",
   "name": "python3"
  },
  "language_info": {
   "codemirror_mode": {
    "name": "ipython",
    "version": 2
   },
   "file_extension": ".py",
   "mimetype": "text/x-python",
   "name": "python",
   "nbconvert_exporter": "python",
   "pygments_lexer": "ipython2",
   "version": "2.7.6"
  }
 },
 "nbformat": 4,
 "nbformat_minor": 5
}
