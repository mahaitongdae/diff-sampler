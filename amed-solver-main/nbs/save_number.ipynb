{
 "cells": [
  {
   "cell_type": "code",
   "id": "initial_id",
   "metadata": {
    "collapsed": true,
    "ExecuteTime": {
     "end_time": "2025-04-03T20:29:59.637795Z",
     "start_time": "2025-04-03T20:29:58.375168Z"
    }
   },
   "source": [
    "import torch\n",
    "import torchvision\n",
    "import torchvision.transforms as T\n",
    "from PIL import Image, ImageDraw, ImageFont\n",
    "\n",
    "def draw_indices_on_images(images, indices, font_size=12):\n",
    "    \"\"\"Overlay index numbers on each image in the batch.\"\"\"\n",
    "    images_with_text = []\n",
    "    to_pil = T.ToPILImage()\n",
    "    to_tensor = T.ToTensor()\n",
    "    \n",
    "    # Try to load a default font\n",
    "    try:\n",
    "        font = ImageFont.truetype(\"arial.ttf\", font_size)\n",
    "    except:\n",
    "        font = ImageFont.load_default()\n",
    "\n",
    "    for img_tensor, idx in zip(images, indices):\n",
    "        img = to_pil(img_tensor)\n",
    "        draw = ImageDraw.Draw(img)\n",
    "        draw.text((2, 2), str(idx.item()), fill=\"white\", font=font)\n",
    "        images_with_text.append(to_tensor(img))\n",
    "\n",
    "    return torch.stack(images_with_text)\n",
    "\n",
    "# Example usage:\n",
    "# images: Tensor of shape (B, C, H, W)\n",
    "# indices: Tensor of shape (B,)\n",
    "def save_grid_with_indices(images, indices, filename=\"grid.png\"):\n",
    "    images_with_text = draw_indices_on_images(images, indices)\n",
    "    grid = torchvision.utils.make_grid(images_with_text, nrow=8, padding=2)\n",
    "    torchvision.utils.save_image(grid, filename)\n"
   ],
   "outputs": [],
   "execution_count": 1
  },
  {
   "metadata": {
    "ExecuteTime": {
     "end_time": "2025-04-03T20:33:56.936455Z",
     "start_time": "2025-04-03T20:33:56.912165Z"
    }
   },
   "cell_type": "code",
   "source": [
    "# Dummy example\n",
    "images = torch.randn(16, 3, 32, 32)  # batch of 16 RGB images\n",
    "indices = torch.randn(16)\n",
    "\n",
    "save_grid_with_indices(images, indices, \"output_grid.png\")\n"
   ],
   "id": "e0fe142b81d736e1",
   "outputs": [],
   "execution_count": 3
  }
 ],
 "metadata": {
  "kernelspec": {
   "display_name": "Python 3",
   "language": "python",
   "name": "python3"
  },
  "language_info": {
   "codemirror_mode": {
    "name": "ipython",
    "version": 2
   },
   "file_extension": ".py",
   "mimetype": "text/x-python",
   "name": "python",
   "nbconvert_exporter": "python",
   "pygments_lexer": "ipython2",
   "version": "2.7.6"
  }
 },
 "nbformat": 4,
 "nbformat_minor": 5
}
