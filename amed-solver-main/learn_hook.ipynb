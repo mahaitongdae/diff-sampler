{
 "cells": [
  {
   "cell_type": "code",
   "id": "initial_id",
   "metadata": {
    "collapsed": true,
    "ExecuteTime": {
     "end_time": "2024-12-03T17:49:47.302827Z",
     "start_time": "2024-12-03T17:49:46.297925Z"
    }
   },
   "source": [
    "import torch\n",
    "import torch.nn as nn\n",
    "\n",
    "# Define a simple model\n",
    "class SimpleModel(nn.Module):\n",
    "    def __init__(self):\n",
    "        super(SimpleModel, self).__init__()\n",
    "        self.fc = nn.Linear(10, 1)\n",
    "\n",
    "    def forward(self, x):\n",
    "        return self.fc(x)\n",
    "\n",
    "# Initialize the model\n",
    "model = SimpleModel()\n",
    "\n",
    "# Define a hook function\n",
    "def forward_hook(module, input, output):\n",
    "    print(f\"Inside {module.__class__.__name__}\")\n",
    "    print(f\"Input: {input}\")\n",
    "    print(f\"Output: {output}\")\n",
    "\n",
    "# Register the forward hook\n",
    "hook_handle = model.fc.register_forward_hook(forward_hook)\n",
    "\n",
    "# Perform a forward pass\n",
    "x = torch.randn(1, 10)\n",
    "output = model(x)\n",
    "\n",
    "# Remove the hook\n",
    "hook_handle.remove()\n"
   ],
   "outputs": [
    {
     "name": "stdout",
     "output_type": "stream",
     "text": [
      "Inside Linear\n",
      "Input: (tensor([[-0.3839,  0.8192,  1.0267,  0.6188,  1.7066,  0.4749, -0.7978,  0.8370,\n",
      "         -1.1498,  1.0701]]),)\n",
      "Output: tensor([[0.0740]], grad_fn=<AddmmBackward0>)\n"
     ]
    }
   ],
   "execution_count": 1
  },
  {
   "metadata": {
    "ExecuteTime": {
     "end_time": "2024-12-09T20:03:26.362592Z",
     "start_time": "2024-12-09T20:03:26.359258Z"
    }
   },
   "cell_type": "code",
   "source": [
    "import dnnlib\n",
    "from torch_utils.download_util import check_file_by_key\n",
    "import pickle\n",
    "import torch"
   ],
   "id": "a0c6d3a0e9a5b8de",
   "outputs": [],
   "execution_count": 7
  },
  {
   "metadata": {
    "ExecuteTime": {
     "end_time": "2024-12-09T20:16:17.010161Z",
     "start_time": "2024-12-09T20:16:16.862749Z"
    }
   },
   "cell_type": "code",
   "source": [
    "model_path, classifier_path = check_file_by_key('cifar10')\n",
    "with dnnlib.util.open_url(model_path) as f:\n",
    "    net = pickle.load(f)['ema'].to(torch.device('cuda'))\n",
    "net.sigma_min = 0.002\n",
    "net.sigma_max = 80.0"
   ],
   "id": "1d277526a2844aa6",
   "outputs": [
    {
     "name": "stdout",
     "output_type": "stream",
     "text": [
      "Model already exists: ../amed-solver-main/src/cifar10/edm-cifar10-32x32-uncond-vp.pkl\n"
     ]
    }
   ],
   "execution_count": 13
  },
  {
   "metadata": {
    "ExecuteTime": {
     "end_time": "2024-12-09T20:21:25.050726Z",
     "start_time": "2024-12-09T20:21:25.044430Z"
    }
   },
   "cell_type": "code",
   "source": "del net",
   "id": "c2e5159575f0968d",
   "outputs": [],
   "execution_count": 16
  }
 ],
 "metadata": {
  "kernelspec": {
   "display_name": "Python 3",
   "language": "python",
   "name": "python3"
  },
  "language_info": {
   "codemirror_mode": {
    "name": "ipython",
    "version": 2
   },
   "file_extension": ".py",
   "mimetype": "text/x-python",
   "name": "python",
   "nbconvert_exporter": "python",
   "pygments_lexer": "ipython2",
   "version": "2.7.6"
  }
 },
 "nbformat": 4,
 "nbformat_minor": 5
}
