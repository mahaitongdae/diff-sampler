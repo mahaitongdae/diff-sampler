{
 "cells": [
  {
   "cell_type": "code",
   "id": "initial_id",
   "metadata": {
    "collapsed": true,
    "ExecuteTime": {
     "end_time": "2024-12-03T17:49:47.302827Z",
     "start_time": "2024-12-03T17:49:46.297925Z"
    }
   },
   "source": [
    "import torch\n",
    "import torch.nn as nn\n",
    "\n",
    "# Define a simple model\n",
    "class SimpleModel(nn.Module):\n",
    "    def __init__(self):\n",
    "        super(SimpleModel, self).__init__()\n",
    "        self.fc = nn.Linear(10, 1)\n",
    "\n",
    "    def forward(self, x):\n",
    "        return self.fc(x)\n",
    "\n",
    "# Initialize the model\n",
    "model = SimpleModel()\n",
    "\n",
    "# Define a hook function\n",
    "def forward_hook(module, input, output):\n",
    "    print(f\"Inside {module.__class__.__name__}\")\n",
    "    print(f\"Input: {input}\")\n",
    "    print(f\"Output: {output}\")\n",
    "\n",
    "# Register the forward hook\n",
    "hook_handle = model.fc.register_forward_hook(forward_hook)\n",
    "\n",
    "# Perform a forward pass\n",
    "x = torch.randn(1, 10)\n",
    "output = model(x)\n",
    "\n",
    "# Remove the hook\n",
    "hook_handle.remove()\n"
   ],
   "outputs": [
    {
     "name": "stdout",
     "output_type": "stream",
     "text": [
      "Inside Linear\n",
      "Input: (tensor([[-0.3839,  0.8192,  1.0267,  0.6188,  1.7066,  0.4749, -0.7978,  0.8370,\n",
      "         -1.1498,  1.0701]]),)\n",
      "Output: tensor([[0.0740]], grad_fn=<AddmmBackward0>)\n"
     ]
    }
   ],
   "execution_count": 1
  }
 ],
 "metadata": {
  "kernelspec": {
   "display_name": "Python 3",
   "language": "python",
   "name": "python3"
  },
  "language_info": {
   "codemirror_mode": {
    "name": "ipython",
    "version": 2
   },
   "file_extension": ".py",
   "mimetype": "text/x-python",
   "name": "python",
   "nbconvert_exporter": "python",
   "pygments_lexer": "ipython2",
   "version": "2.7.6"
  }
 },
 "nbformat": 4,
 "nbformat_minor": 5
}
